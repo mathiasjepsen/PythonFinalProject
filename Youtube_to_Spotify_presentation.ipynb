{
 "cells": [
  {
   "cell_type": "markdown",
   "metadata": {},
   "source": [
    " "
   ]
  },
  {
   "cell_type": "code",
   "execution_count": null,
   "metadata": {},
   "outputs": [],
   "source": [
    "MAIN FEATURE"
   ]
  },
  {
   "cell_type": "code",
   "execution_count": null,
   "metadata": {},
   "outputs": [],
   "source": [
    "As an introduction, this presentation does not follow our real code structure. \n",
    "In the beginning we prop the user for the youtube playlist he wishes to import to his spotify."
   ]
  },
  {
   "cell_type": "code",
   "execution_count": 1,
   "metadata": {},
   "outputs": [],
   "source": [
    "playlist_link = \"https://www.youtube.com/playlist?list=PL0gdCDw52PLWC3Im-OP3CfyJFozvqCSuH\"\n"
   ]
  },
  {
   "cell_type": "markdown",
   "metadata": {},
   "source": [
    "The first step in the project is to open a browser page and scrap the provided youtube playlist using Selenium.\n",
    "Our objective is to retrieve the songs titles of the playlist"
   ]
  },
  {
   "cell_type": "code",
   "execution_count": 2,
   "metadata": {},
   "outputs": [
    {
     "name": "stderr",
     "output_type": "stream",
     "text": [
      "100%|██████████| 15/15 [00:31<00:00,  2.10s/it]\n"
     ]
    },
    {
     "data": {
      "text/plain": [
       "['Camila Cabello - Havana ft. Young Thug',\n",
       " 'The Chainsmokers & Coldplay - Something Just Like This (Lyric)',\n",
       " 'ZAYN, Taylor Swift - I Don’t Wanna Live Forever (Fifty Shades Darker)',\n",
       " 'The Chainsmokers - Closer ft. Halsey (Slushii Remix)',\n",
       " 'The Weeknd - Starboy (official) ft. Daft Punk',\n",
       " 'Marshmallo - iNvinCibLe',\n",
       " 'marshmello - WaNt U 2 (marshmello x slushii Remix)',\n",
       " \"The Weeknd - Can't Feel My Face\",\n",
       " 'The Weeknd - The Hills',\n",
       " 'Ellie Goulding - Love Me Like You Do (Official Video)',\n",
       " 'M83 - Intro',\n",
       " 'Deadmau5 - Ghosts N Stuff - Nero Remix [FULL HD]',\n",
       " 'The naked famous - Young blood ( The Art of Flight soundtrack)',\n",
       " 'Camila Cabello - Havana Live (Latin American Music Awards 2017) Spanglish Version',\n",
       " 'The Chainsmokers & Coldplay - Something Just Like This (Official Video HD) Legenda em português']"
      ]
     },
     "execution_count": 2,
     "metadata": {},
     "output_type": "execute_result"
    }
   ],
   "source": [
    "from time import sleep\n",
    "from selenium import webdriver\n",
    "from tqdm import tqdm\n",
    "\n",
    "\n",
    "\n",
    "def init(playlist_link):\n",
    "    global num_of_videos\n",
    "    global browser\n",
    "    browser = webdriver.Chrome()\n",
    "    browser.get(playlist_link)\n",
    "\n",
    "    stats = browser.find_element_by_id(\"stats\")\n",
    "    num_of_videos = stats.text.split()[0]\n",
    "    play_all_button = browser.find_element_by_xpath(\n",
    "        '//*[@class=\"style-scope ytd-playlist-sidebar-primary-info-renderer\"]')\n",
    "    play_all_button.click()\n",
    "    sleep(2)\n",
    "    mute_button = browser.find_element_by_xpath(\n",
    "        '//*[@class=\"ytp-mute-button ytp-button\"]')\n",
    "    mute_button.click()\n",
    "\n",
    "\n",
    "def scrape_titles():\n",
    "    titles = []\n",
    "    for _ in tqdm(range(int(num_of_videos))):\n",
    "        title = browser.find_element_by_xpath(\n",
    "            '//*[@class=\"style-scope ytd-video-primary-info-renderer\"]') \\\n",
    "            .text.splitlines()[0]        \n",
    "        titles.append(title)\n",
    "        next_button = browser.find_element_by_xpath(\n",
    "            '//*[@class=\"ytp-next-button ytp-button\"]')\n",
    "        browser.execute_script(\"arguments[0].click();\", next_button)\n",
    "        #next_button.click()\n",
    "        sleep(2) # If we can find a way to have this be more dynamic, \n",
    "                 # and not hard-coded to 2, that'd be nice\n",
    "    browser.close()\n",
    "    return titles\n",
    "\n",
    "\n",
    "\n",
    "init(playlist_link)\n",
    "titles = scrape_titles()\n",
    "\n",
    "titles\n"
   ]
  },
  {
   "cell_type": "markdown",
   "metadata": {},
   "source": [
    "In order to attempt to add these songs into our spotify playlist, we need to use the Spotify API to search if the songs exist and retrieve their unique Spotify IDs necessary to add them to a playlist.\n",
    "The format of the HTTP request to retrieve the IDs requires that the titles get converted to URL format"
   ]
  },
  {
   "cell_type": "code",
   "execution_count": 3,
   "metadata": {},
   "outputs": [
    {
     "data": {
      "text/plain": [
       "['Camila%20Cabello%20-%20Havana%20ft.%20Young%20Thug',\n",
       " 'The%20Chainsmokers%20&%20Coldplay%20-%20Something%20Just%20Like%20This%20(Lyric)',\n",
       " 'ZAYN,%20Taylor%20Swift%20-%20I%20Don’t%20Wanna%20Live%20Forever%20(Fifty%20Shades%20Darker)',\n",
       " 'The%20Chainsmokers%20-%20Closer%20ft.%20Halsey%20(Slushii%20Remix)',\n",
       " 'The%20Weeknd%20-%20Starboy%20(official)%20ft.%20Daft%20Punk',\n",
       " 'Marshmallo%20-%20iNvinCibLe',\n",
       " 'marshmello%20-%20WaNt%20U%202%20(marshmello%20x%20slushii%20Remix)',\n",
       " \"The%20Weeknd%20-%20Can't%20Feel%20My%20Face\",\n",
       " 'The%20Weeknd%20-%20The%20Hills',\n",
       " 'Ellie%20Goulding%20-%20Love%20Me%20Like%20You%20Do%20(Official%20Video)',\n",
       " 'M83%20-%20Intro',\n",
       " 'Deadmau5%20-%20Ghosts%20N%20Stuff%20-%20Nero%20Remix%20[FULL%20HD]',\n",
       " 'The%20naked%20famous%20-%20Young%20blood%20(%20The%20Art%20of%20Flight%20soundtrack)',\n",
       " 'Camila%20Cabello%20-%20Havana%20Live%20(Latin%20American%20Music%20Awards%202017)%20Spanglish%20Version',\n",
       " 'The%20Chainsmokers%20&%20Coldplay%20-%20Something%20Just%20Like%20This%20(Official%20Video%20HD)%20Legenda%20em%20português']"
      ]
     },
     "execution_count": 3,
     "metadata": {},
     "output_type": "execute_result"
    }
   ],
   "source": [
    "titles_as_URL = [title.replace(\" \", \"%20\") for title in titles]\n",
    "\n",
    "titles_as_URL"
   ]
  },
  {
   "cell_type": "markdown",
   "metadata": {},
   "source": [
    "Now we prop the user for additional information required to create a spotify playlist via the API (We detail in the Readme file of the git repo how to retrieve these information). The Token having a time validity, we ask for these information after the scrapping (if the playlist is big the Token could have expired if we retrieve it at the beginning of the process. "
   ]
  },
  {
   "cell_type": "code",
   "execution_count": 4,
   "metadata": {},
   "outputs": [],
   "source": [
    "spotify_username = \"thom.thimothee\"\n",
    "spotify_api_token = \"BQDraY62gneNBMrI9ThMNxdCxU_cFsKNF5zjjciqLunIf28RGHkchK7kFWot02BBSV3QndCBC-x7ih8jW8-RSDW6gODJtA_Pl3GsoVKY1cvVkUdIYzFq512v023XpM8pOh15Z9A5RfEBzqbIy1eJjJIToTtXvctscomKkS5u1g48ZzgLxW5fI2ehahwSW6tCE4xFo3xb5lwAFQbq3tyvwcS1CMDMU4McFTiLQJsLzBYc3h32Dx5ZHtTXwA\"\n",
    "playlist_name = \"Youtube_Playlist\"\n",
    "playlist_description = \"Created from Python script\""
   ]
  },
  {
   "cell_type": "markdown",
   "metadata": {},
   "source": [
    "We now attend to create a playlist on the spotify account of the user. In the code, we have included some error handling in case some provided information were wrong. (Real code contain error handling)"
   ]
  },
  {
   "cell_type": "code",
   "execution_count": 5,
   "metadata": {},
   "outputs": [
    {
     "data": {
      "text/plain": [
       "'3jz9laJtlvKVqIwob494VI'"
      ]
     },
     "execution_count": 5,
     "metadata": {},
     "output_type": "execute_result"
    }
   ],
   "source": [
    "import requests\n",
    "import json\n",
    "\n",
    "def create_playlist(ID, token, playlist_name, playlist_description):\n",
    "    global user_id\n",
    "    user_id = ID\n",
    "\n",
    "    url_create_playlist = \"https://api.spotify.com/v1/users/\" + \\\n",
    "                          f\"{user_id}/playlists\"\n",
    "    headers = {\n",
    "        \"Accept\": \"application/json\",\n",
    "        \"Content-Type\": \"application/json\",\n",
    "        \"Authorization\": f\"Bearer {token}\"\n",
    "    }\n",
    "    body = {\n",
    "        \"name\": playlist_name,\n",
    "        \"description\": playlist_description\n",
    "    }\n",
    "    r = requests.post(url_create_playlist, \n",
    "                      headers=headers,\n",
    "                      data=json.dumps(body))\n",
    "    results = r.json()\n",
    "    \n",
    "    return results[\"id\"]\n",
    "\n",
    "playlist_id = create_playlist(spotify_username, \n",
    "                                spotify_api_token,\n",
    "                                playlist_name, \n",
    "                                playlist_description)\n",
    "playlist_id"
   ]
  },
  {
   "cell_type": "markdown",
   "metadata": {},
   "source": [
    "We now try to search for our youtube songs"
   ]
  },
  {
   "cell_type": "code",
   "execution_count": 6,
   "metadata": {},
   "outputs": [
    {
     "data": {
      "text/plain": [
       "['spotify:track:1Zx5Jt8zJdxLgBmdQ2PqaP',\n",
       " 'spotify:track:08hm0V6cTsWDX62hW42sEv',\n",
       " 'spotify:track:3NdDpSvN911VPGivFlV5d0',\n",
       " 'spotify:track:6RsWqX8zABZLhZydXxEFOm',\n",
       " 'spotify:track:25khomWgBVamSdKw7hzm3l',\n",
       " 'spotify:track:7w0FV6ViNDZFy9Mu90sQzl',\n",
       " 'spotify:track:08hm0V6cTsWDX62hW42sEv']"
      ]
     },
     "execution_count": 6,
     "metadata": {},
     "output_type": "execute_result"
    }
   ],
   "source": [
    "def find_spotify_songs(titles_as_URL, token):\n",
    "    uris = []\n",
    "    unknown_songs = []\n",
    "    for url_title in titles_as_URL:\n",
    "        url = f\"https://api.spotify.com/v1/search?q={url_title}&type=track\"\n",
    "        headers = {\n",
    "            \"Accept\": \"application/json\",\n",
    "            \"Content-Type\": \"application/json\",\n",
    "            \"Authorization\": f\"Bearer {token}\"\n",
    "        }\n",
    "        r = requests.get(url, headers=headers)\n",
    "        results = r.json()\n",
    "        try:\n",
    "            uris.append(results[\"tracks\"][\"items\"][0][\"uri\"])\n",
    "        except KeyError:\n",
    "            if results[\"error\"]:\n",
    "                print(results[\"error\"][\"message\"])\n",
    "        except IndexError:\n",
    "            unknown_songs.append(url_title.replace(\"%20\", \" \"))\n",
    "    return (uris, unknown_songs)\n",
    "\n",
    "uris, unknown_songs = find_spotify_songs(titles_as_URL, spotify_api_token)\n",
    "uris"
   ]
  },
  {
   "cell_type": "code",
   "execution_count": 7,
   "metadata": {},
   "outputs": [
    {
     "data": {
      "text/plain": [
       "['The Chainsmokers - Closer ft. Halsey (Slushii Remix)',\n",
       " 'The Weeknd - Starboy (official) ft. Daft Punk',\n",
       " 'Marshmallo - iNvinCibLe',\n",
       " 'marshmello - WaNt U 2 (marshmello x slushii Remix)',\n",
       " 'Ellie Goulding - Love Me Like You Do (Official Video)',\n",
       " 'Deadmau5 - Ghosts N Stuff - Nero Remix [FULL HD]',\n",
       " 'The naked famous - Young blood ( The Art of Flight soundtrack)',\n",
       " 'Camila Cabello - Havana Live (Latin American Music Awards 2017) Spanglish Version']"
      ]
     },
     "execution_count": 7,
     "metadata": {},
     "output_type": "execute_result"
    }
   ],
   "source": [
    "unknown_songs"
   ]
  },
  {
   "cell_type": "markdown",
   "metadata": {},
   "source": [
    "Finally we add the found songs into the created playlist"
   ]
  },
  {
   "cell_type": "code",
   "execution_count": 8,
   "metadata": {},
   "outputs": [],
   "source": [
    "def add_to_playlist(uris, TOKEN, playlist_id):\n",
    "    url = f\"https://api.spotify.com/v1/users/{user_id}/playlists/\" + \\\n",
    "          f\"{playlist_id}/tracks\"\n",
    "    headers = {\n",
    "        \"Accept\": \"application/json\",\n",
    "        \"Content-Type\": \"application/json\",\n",
    "        \"Authorization\": f\"Bearer {TOKEN}\"\n",
    "    }\n",
    "    body = {\n",
    "        \"uris\": uris\n",
    "    }\n",
    "    requests.post(url, headers=headers,\n",
    "                       data=json.dumps(body))\n",
    "                       \n",
    "add_to_playlist(uris, spotify_api_token, playlist_id)"
   ]
  },
  {
   "cell_type": "markdown",
   "metadata": {},
   "source": [
    "As an information to the user, we print the songs that were in the youtube playlist but not part of the Spotify song library"
   ]
  },
  {
   "cell_type": "code",
   "execution_count": 9,
   "metadata": {},
   "outputs": [
    {
     "name": "stdout",
     "output_type": "stream",
     "text": [
      "The following songs couldn't be added to the playlist:\n",
      "The Chainsmokers - Closer ft. Halsey (Slushii Remix)\n",
      "The Weeknd - Starboy (official) ft. Daft Punk\n",
      "Marshmallo - iNvinCibLe\n",
      "marshmello - WaNt U 2 (marshmello x slushii Remix)\n",
      "Ellie Goulding - Love Me Like You Do (Official Video)\n",
      "Deadmau5 - Ghosts N Stuff - Nero Remix [FULL HD]\n",
      "The naked famous - Young blood ( The Art of Flight soundtrack)\n",
      "Camila Cabello - Havana Live (Latin American Music Awards 2017) Spanglish Version\n"
     ]
    }
   ],
   "source": [
    "if len(unknown_songs) > 0:\n",
    "    print(\"The following songs couldn't be added to the playlist:\")\n",
    "    for song in unknown_songs:\n",
    "        print(song)"
   ]
  },
  {
   "cell_type": "code",
   "execution_count": null,
   "metadata": {},
   "outputs": [],
   "source": []
  },
  {
   "cell_type": "code",
   "execution_count": null,
   "metadata": {},
   "outputs": [],
   "source": []
  },
  {
   "cell_type": "code",
   "execution_count": null,
   "metadata": {},
   "outputs": [],
   "source": []
  },
  {
   "cell_type": "code",
   "execution_count": null,
   "metadata": {},
   "outputs": [],
   "source": []
  }
 ],
 "metadata": {
  "kernelspec": {
   "display_name": "Python 3",
   "language": "python",
   "name": "python3"
  },
  "language_info": {
   "codemirror_mode": {
    "name": "ipython",
    "version": 3
   },
   "file_extension": ".py",
   "mimetype": "text/x-python",
   "name": "python",
   "nbconvert_exporter": "python",
   "pygments_lexer": "ipython3",
   "version": "3.6.4"
  }
 },
 "nbformat": 4,
 "nbformat_minor": 2
}
