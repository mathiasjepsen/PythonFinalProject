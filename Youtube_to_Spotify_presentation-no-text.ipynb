{
 "cells": [
  {
   "cell_type": "markdown",
   "metadata": {},
   "source": [
    " "
   ]
  },
  {
   "cell_type": "markdown",
   "metadata": {
    "collapsed": true
   },
   "source": [
    "MAIN FEATURE"
   ]
  },
  {
   "cell_type": "code",
   "execution_count": 1,
   "metadata": {},
   "outputs": [],
   "source": [
    "playlist_link = \"https://www.youtube.com/playlist?list=PL0gdCDw52PLWC3Im-OP3CfyJFozvqCSuH\""
   ]
  },
  {
   "cell_type": "code",
   "execution_count": 2,
   "metadata": {},
   "outputs": [
    {
     "name": "stderr",
     "output_type": "stream",
     "text": [
      "100%|██████████| 15/15 [00:32<00:00,  2.14s/it]\n"
     ]
    },
    {
     "data": {
      "text/plain": [
       "['Camila Cabello - Havana ft. Young Thug',\n",
       " 'The Chainsmokers & Coldplay - Something Just Like This (Lyric)',\n",
       " 'ZAYN, Taylor Swift - I Don’t Wanna Live Forever (Fifty Shades Darker)',\n",
       " 'The Chainsmokers - Closer ft. Halsey (Slushii Remix)',\n",
       " 'The Weeknd - Starboy (official) ft. Daft Punk',\n",
       " 'The Weeknd - Starboy (official) ft. Daft Punk',\n",
       " 'marshmello - WaNt U 2 (marshmello x slushii Remix)',\n",
       " \"The Weeknd - Can't Feel My Face\",\n",
       " 'The Weeknd - The Hills',\n",
       " 'The Weeknd - The Hills',\n",
       " 'M83 - Intro',\n",
       " 'Deadmau5 - Ghosts N Stuff - Nero Remix [FULL HD]',\n",
       " 'The naked famous - Young blood ( The Art of Flight soundtrack)',\n",
       " 'Camila Cabello - Havana Live (Latin American Music Awards 2017) Spanglish Version',\n",
       " 'The Chainsmokers & Coldplay - Something Just Like This (Official Video HD) Legenda em português']"
      ]
     },
     "execution_count": 2,
     "metadata": {},
     "output_type": "execute_result"
    }
   ],
   "source": [
    "from time import sleep\n",
    "from selenium import webdriver\n",
    "from tqdm import tqdm\n",
    "\n",
    "\n",
    "def init(playlist_link):\n",
    "    browser = webdriver.Chrome()\n",
    "    browser.get(playlist_link)\n",
    "\n",
    "    stats = browser.find_element_by_id(\"stats\")\n",
    "    num_of_videos = stats.text.split()[0]\n",
    "    play_all_button = browser.find_element_by_xpath(\n",
    "        '//*[@class=\"style-scope ytd-playlist-sidebar-primary-info-renderer\"]')\n",
    "    play_all_button.click()\n",
    "    sleep(2)\n",
    "    mute_button = browser.find_element_by_xpath(\n",
    "        '//*[@class=\"ytp-mute-button ytp-button\"]')\n",
    "    mute_button.click()\n",
    "    return browser, num_of_videos\n",
    "\n",
    "def scrape_titles():\n",
    "    titles = []\n",
    "    for _ in tqdm(range(int(num_of_videos))):\n",
    "        title = browser.find_element_by_xpath(\n",
    "            '//*[@class=\"style-scope ytd-video-primary-info-renderer\"]') \\\n",
    "            .text.splitlines()[0]        \n",
    "        titles.append(title)\n",
    "        next_button = browser.find_element_by_xpath(\n",
    "            '//*[@class=\"ytp-next-button ytp-button\"]')\n",
    "        browser.execute_script(\"arguments[0].click();\", next_button)\n",
    "        sleep(2) # If we can find a way to have this be more dynamic, \n",
    "                 # and not hard-coded to 2, that'd be nice\n",
    "    browser.close()\n",
    "    return titles\n",
    "\n",
    "\n",
    "browser, num_of_videos = init(playlist_link)\n",
    "titles = scrape_titles()\n",
    "\n",
    "titles\n"
   ]
  },
  {
   "cell_type": "code",
   "execution_count": 3,
   "metadata": {},
   "outputs": [
    {
     "data": {
      "text/plain": [
       "['Camila%20Cabello%20-%20Havana%20ft.%20Young%20Thug',\n",
       " 'The%20Chainsmokers%20&%20Coldplay%20-%20Something%20Just%20Like%20This%20(Lyric)',\n",
       " 'ZAYN,%20Taylor%20Swift%20-%20I%20Don’t%20Wanna%20Live%20Forever%20(Fifty%20Shades%20Darker)',\n",
       " 'The%20Chainsmokers%20-%20Closer%20ft.%20Halsey%20(Slushii%20Remix)',\n",
       " 'The%20Weeknd%20-%20Starboy%20(official)%20ft.%20Daft%20Punk',\n",
       " 'The%20Weeknd%20-%20Starboy%20(official)%20ft.%20Daft%20Punk',\n",
       " 'marshmello%20-%20WaNt%20U%202%20(marshmello%20x%20slushii%20Remix)',\n",
       " \"The%20Weeknd%20-%20Can't%20Feel%20My%20Face\",\n",
       " 'The%20Weeknd%20-%20The%20Hills',\n",
       " 'The%20Weeknd%20-%20The%20Hills',\n",
       " 'M83%20-%20Intro',\n",
       " 'Deadmau5%20-%20Ghosts%20N%20Stuff%20-%20Nero%20Remix%20[FULL%20HD]',\n",
       " 'The%20naked%20famous%20-%20Young%20blood%20(%20The%20Art%20of%20Flight%20soundtrack)',\n",
       " 'Camila%20Cabello%20-%20Havana%20Live%20(Latin%20American%20Music%20Awards%202017)%20Spanglish%20Version',\n",
       " 'The%20Chainsmokers%20&%20Coldplay%20-%20Something%20Just%20Like%20This%20(Official%20Video%20HD)%20Legenda%20em%20português']"
      ]
     },
     "execution_count": 3,
     "metadata": {},
     "output_type": "execute_result"
    }
   ],
   "source": [
    "titles_as_URL = [title.replace(\" \", \"%20\") for title in titles]\n",
    "\n",
    "titles_as_URL"
   ]
  },
  {
   "cell_type": "code",
   "execution_count": 8,
   "metadata": {},
   "outputs": [],
   "source": [
    "spotify_username = \"thom.thimothee\"\n",
    "spotify_api_token = \"BQBrUF4-oJ1hxobNPZbVwMLgxtKR98ELEHmt2_tu1p461e9FENIEm93kF_IBOZPa_lVZOL9rOcLnurcuW8pB85C9Amb0d0zBUGGewMoqG0HOByu5gYogseMc8wzib_rAAnIrgalA6kFGirz0T_yBGbSmSruK-WSYi3RsgWyJ-nTdbU3mGuVSZEIM2vNcuBcdRgc5x8kmvbMLj-biX-48FRog4gz8Oe_C9fMh97HR9sYpwcdlnOZMXvCLpg\"\n",
    "playlist_name = \"Youtube_Playlist 2\"\n",
    "playlist_description = \"Created from Python script\""
   ]
  },
  {
   "cell_type": "code",
   "execution_count": 9,
   "metadata": {},
   "outputs": [
    {
     "data": {
      "text/plain": [
       "'4EeYWAkNSmuOzKwwf5lC0m'"
      ]
     },
     "execution_count": 9,
     "metadata": {},
     "output_type": "execute_result"
    }
   ],
   "source": [
    "import requests\n",
    "import json\n",
    "\n",
    "def create_playlist(user_id, token, playlist_name, playlist_description):\n",
    "    url_create_playlist = \"https://api.spotify.com/v1/users/\" + \\\n",
    "                          f\"{user_id}/playlists\"\n",
    "    headers = {\n",
    "        \"Accept\": \"application/json\",\n",
    "        \"Content-Type\": \"application/json\",\n",
    "        \"Authorization\": f\"Bearer {token}\"\n",
    "    }\n",
    "    body = {\n",
    "        \"name\": playlist_name,\n",
    "        \"description\": playlist_description\n",
    "    }\n",
    "    r = requests.post(url_create_playlist, \n",
    "                      headers=headers,\n",
    "                      data=json.dumps(body))\n",
    "    results = r.json()\n",
    "    return results[\"id\"]\n",
    "\n",
    "playlist_id = create_playlist(spotify_username, \n",
    "                                spotify_api_token,\n",
    "                                playlist_name, \n",
    "                                playlist_description)\n",
    "playlist_id"
   ]
  },
  {
   "cell_type": "code",
   "execution_count": 10,
   "metadata": {},
   "outputs": [
    {
     "data": {
      "text/plain": [
       "['spotify:track:1Zx5Jt8zJdxLgBmdQ2PqaP',\n",
       " 'spotify:track:08hm0V6cTsWDX62hW42sEv',\n",
       " 'spotify:track:3NdDpSvN911VPGivFlV5d0',\n",
       " 'spotify:track:6RsWqX8zABZLhZydXxEFOm',\n",
       " 'spotify:track:25khomWgBVamSdKw7hzm3l',\n",
       " 'spotify:track:25khomWgBVamSdKw7hzm3l',\n",
       " 'spotify:track:7w0FV6ViNDZFy9Mu90sQzl',\n",
       " 'spotify:track:08hm0V6cTsWDX62hW42sEv']"
      ]
     },
     "execution_count": 10,
     "metadata": {},
     "output_type": "execute_result"
    }
   ],
   "source": [
    "def find_spotify_songs(titles_as_URL, token):\n",
    "    uris = []\n",
    "    unknown_songs = []\n",
    "    for url_title in titles_as_URL:\n",
    "        url = f\"https://api.spotify.com/v1/search?q={url_title}&type=track\"\n",
    "        headers = {\n",
    "            \"Accept\": \"application/json\",\n",
    "            \"Content-Type\": \"application/json\",\n",
    "            \"Authorization\": f\"Bearer {token}\"\n",
    "        }\n",
    "        r = requests.get(url, headers=headers)\n",
    "        results = r.json()\n",
    "        try:\n",
    "            uris.append(results[\"tracks\"][\"items\"][0][\"uri\"])\n",
    "        except KeyError:\n",
    "            if results[\"error\"]:\n",
    "                print(results[\"error\"][\"message\"])\n",
    "        except IndexError:\n",
    "            unknown_songs.append(url_title.replace(\"%20\", \" \"))\n",
    "    return (uris, unknown_songs)\n",
    "\n",
    "uris, unknown_songs = find_spotify_songs(titles_as_URL, spotify_api_token)\n",
    "uris"
   ]
  },
  {
   "cell_type": "code",
   "execution_count": 7,
   "metadata": {},
   "outputs": [
    {
     "data": {
      "text/plain": [
       "['The Chainsmokers - Closer ft. Halsey (Slushii Remix)',\n",
       " 'The Weeknd - Starboy (official) ft. Daft Punk',\n",
       " 'Marshmallo - iNvinCibLe',\n",
       " 'marshmello - WaNt U 2 (marshmello x slushii Remix)',\n",
       " 'Ellie Goulding - Love Me Like You Do (Official Video)',\n",
       " 'Deadmau5 - Ghosts N Stuff - Nero Remix [FULL HD]',\n",
       " 'The naked famous - Young blood ( The Art of Flight soundtrack)',\n",
       " 'Camila Cabello - Havana Live (Latin American Music Awards 2017) Spanglish Version']"
      ]
     },
     "execution_count": 7,
     "metadata": {},
     "output_type": "execute_result"
    }
   ],
   "source": [
    "unknown_songs"
   ]
  },
  {
   "cell_type": "code",
   "execution_count": 11,
   "metadata": {},
   "outputs": [],
   "source": [
    "def add_to_playlist(user_id, uris, token, playlist_id):\n",
    "    url = f\"https://api.spotify.com/v1/users/{user_id}/playlists/\" + \\\n",
    "          f\"{playlist_id}/tracks\"\n",
    "    headers = {\n",
    "        \"Accept\": \"application/json\",\n",
    "        \"Content-Type\": \"application/json\",\n",
    "        \"Authorization\": f\"Bearer {token}\"\n",
    "    }\n",
    "    body = {\n",
    "        \"uris\": uris\n",
    "    }\n",
    "    requests.post(url, headers=headers,\n",
    "                       data=json.dumps(body))\n",
    "                       \n",
    "add_to_playlist(spotify_username, uris, spotify_api_token, playlist_id)"
   ]
  },
  {
   "cell_type": "code",
   "execution_count": 12,
   "metadata": {},
   "outputs": [
    {
     "name": "stdout",
     "output_type": "stream",
     "text": [
      "The following songs couldn't be added to the playlist:\n",
      "The Chainsmokers - Closer ft. Halsey (Slushii Remix)\n",
      "The Weeknd - Starboy (official) ft. Daft Punk\n",
      "The Weeknd - Starboy (official) ft. Daft Punk\n",
      "marshmello - WaNt U 2 (marshmello x slushii Remix)\n",
      "Deadmau5 - Ghosts N Stuff - Nero Remix [FULL HD]\n",
      "The naked famous - Young blood ( The Art of Flight soundtrack)\n",
      "Camila Cabello - Havana Live (Latin American Music Awards 2017) Spanglish Version\n"
     ]
    }
   ],
   "source": [
    "if len(unknown_songs) > 0:\n",
    "    print(\"The following songs couldn't be added to the playlist:\")\n",
    "    for song in unknown_songs:\n",
    "        print(song)"
   ]
  }
 ],
 "metadata": {
  "kernelspec": {
   "display_name": "Python 3",
   "language": "python",
   "name": "python3"
  },
  "language_info": {
   "codemirror_mode": {
    "name": "ipython",
    "version": 3
   },
   "file_extension": ".py",
   "mimetype": "text/x-python",
   "name": "python",
   "nbconvert_exporter": "python",
   "pygments_lexer": "ipython3",
   "version": "3.6.4"
  }
 },
 "nbformat": 4,
 "nbformat_minor": 2
}
