{
 "cells": [
  {
   "cell_type": "markdown",
   "metadata": {},
   "source": [
    " "
   ]
  },
  {
   "cell_type": "markdown",
   "metadata": {
    "collapsed": true
   },
   "source": [
    "MAIN FEATURE"
   ]
  },
  {
   "cell_type": "code",
   "execution_count": null,
   "metadata": {
    "collapsed": true
   },
   "outputs": [],
   "source": [
    "playlist_link = \"https://www.youtube.com/playlist?list=PL0gdCDw52PLWC3Im-OP3CfyJFozvqCSuH\""
   ]
  },
  {
   "cell_type": "code",
   "execution_count": null,
   "metadata": {},
   "outputs": [],
   "source": [
    "from time import sleep\n",
    "from selenium import webdriver\n",
    "from tqdm import tqdm\n",
    "\n",
    "\n",
    "def init(playlist_link):\n",
    "    browser = webdriver.Chrome()\n",
    "    browser.get(playlist_link)\n",
    "\n",
    "    stats = browser.find_element_by_id(\"stats\")\n",
    "    num_of_videos = stats.text.split()[0]\n",
    "    play_all_button = browser.find_element_by_xpath(\n",
    "        '//*[@class=\"style-scope ytd-playlist-sidebar-primary-info-renderer\"]')\n",
    "    play_all_button.click()\n",
    "    sleep(2)\n",
    "    mute_button = browser.find_element_by_xpath(\n",
    "        '//*[@class=\"ytp-mute-button ytp-button\"]')\n",
    "    mute_button.click()\n",
    "    return browser, num_of_videos\n",
    "\n",
    "def scrape_titles():\n",
    "    titles = []\n",
    "    for _ in tqdm(range(int(num_of_videos))):\n",
    "        title = browser.find_element_by_xpath(\n",
    "            '//*[@class=\"style-scope ytd-video-primary-info-renderer\"]') \\\n",
    "            .text.splitlines()[0]        \n",
    "        titles.append(title)\n",
    "        next_button = browser.find_element_by_xpath(\n",
    "            '//*[@class=\"ytp-next-button ytp-button\"]')\n",
    "        browser.execute_script(\"arguments[0].click();\", next_button)\n",
    "        sleep(2) \n",
    "        \n",
    "    browser.close()\n",
    "    return titles\n",
    "\n",
    "\n",
    "browser, num_of_videos = init(playlist_link)\n",
    "titles = scrape_titles()\n",
    "\n",
    "titles\n"
   ]
  },
  {
   "cell_type": "code",
   "execution_count": null,
   "metadata": {},
   "outputs": [],
   "source": [
    "titles_as_URL = [title.replace(\" \", \"%20\") for title in titles]\n",
    "\n",
    "titles_as_URL"
   ]
  },
  {
   "cell_type": "code",
   "execution_count": null,
   "metadata": {
    "collapsed": true
   },
   "outputs": [],
   "source": [
    "spotify_username = \"113963150\"\n",
    "spotify_api_token = \"BQAA-jyLc4lhy3WJusULLAi3QW5rQqGbe85pTHfUHYENzJQ4JRgVAGSm41iI2sNdqoudXER8ltlu8jjxx_TStfz4lfKnPCNRWv_8Dl1VRB0QXDlRICZUaVTbc6lQRYVYw1KrMT3DO-7v-i2q4b96m6bTYQJ8SfvPRIm7JZuzDPaUMCmSFBguIgP1lzOsMUS-wqmdsbT87gM\"\n",
    "playlist_name = \"YouTube Playlist Exam Edition\"\n",
    "playlist_description = \"Created from Python script\""
   ]
  },
  {
   "cell_type": "code",
   "execution_count": null,
   "metadata": {},
   "outputs": [],
   "source": [
    "import requests\n",
    "import json\n",
    "\n",
    "def create_playlist(user_id, token, playlist_name, playlist_description):\n",
    "    url_create_playlist = \"https://api.spotify.com/v1/users/\" + \\\n",
    "                          f\"{user_id}/playlists\"\n",
    "    headers = {\n",
    "        \"Accept\": \"application/json\",\n",
    "        \"Content-Type\": \"application/json\",\n",
    "        \"Authorization\": f\"Bearer {token}\"\n",
    "    }\n",
    "    body = {\n",
    "        \"name\": playlist_name,\n",
    "        \"description\": playlist_description\n",
    "    }\n",
    "    r = requests.post(url_create_playlist, \n",
    "                      headers=headers,\n",
    "                      data=json.dumps(body))\n",
    "    results = r.json()\n",
    "    return results[\"id\"]\n",
    "\n",
    "playlist_id = create_playlist(spotify_username, \n",
    "                                spotify_api_token,\n",
    "                                playlist_name, \n",
    "                                playlist_description)\n",
    "playlist_id"
   ]
  },
  {
   "cell_type": "code",
   "execution_count": null,
   "metadata": {},
   "outputs": [],
   "source": [
    "def find_spotify_songs(titles_as_URL, token):\n",
    "    uris = []\n",
    "    unknown_songs = []\n",
    "    for url_title in titles_as_URL:\n",
    "        url = f\"https://api.spotify.com/v1/search?q={url_title}&type=track\"\n",
    "        headers = {\n",
    "            \"Accept\": \"application/json\",\n",
    "            \"Content-Type\": \"application/json\",\n",
    "            \"Authorization\": f\"Bearer {token}\"\n",
    "        }\n",
    "        r = requests.get(url, headers=headers)\n",
    "        results = r.json()\n",
    "        try:\n",
    "            uris.append(results[\"tracks\"][\"items\"][0][\"uri\"])\n",
    "        except KeyError:\n",
    "            if results[\"error\"]:\n",
    "                print(results[\"error\"][\"message\"])\n",
    "        except IndexError:\n",
    "            unknown_songs.append(url_title.replace(\"%20\", \" \"))\n",
    "    return (uris, unknown_songs)\n",
    "\n",
    "\n",
    "uris, unknown_songs = find_spotify_songs(titles_as_URL, spotify_api_token)\n",
    "uris"
   ]
  },
  {
   "cell_type": "code",
   "execution_count": null,
   "metadata": {
    "collapsed": true
   },
   "outputs": [],
   "source": [
    "def add_to_playlist(user_id, uris, token, playlist_id):\n",
    "    url = f\"https://api.spotify.com/v1/users/{user_id}/playlists/\" + \\\n",
    "          f\"{playlist_id}/tracks\"\n",
    "    headers = {\n",
    "        \"Accept\": \"application/json\",\n",
    "        \"Content-Type\": \"application/json\",\n",
    "        \"Authorization\": f\"Bearer {token}\"\n",
    "    }\n",
    "    body = {\n",
    "        \"uris\": uris\n",
    "    }\n",
    "    requests.post(url, headers=headers,\n",
    "                       data=json.dumps(body))\n",
    "                       \n",
    "        \n",
    "add_to_playlist(spotify_username, uris, spotify_api_token, playlist_id)"
   ]
  },
  {
   "cell_type": "code",
   "execution_count": null,
   "metadata": {},
   "outputs": [],
   "source": [
    "if len(unknown_songs) > 0:\n",
    "    print(\"The following songs couldn't be added to the playlist:\")\n",
    "    for song in unknown_songs:\n",
    "        print(song)"
   ]
  }
 ],
 "metadata": {
  "kernelspec": {
   "display_name": "Python 3",
   "language": "python",
   "name": "python3"
  },
  "language_info": {
   "codemirror_mode": {
    "name": "ipython",
    "version": 3
   },
   "file_extension": ".py",
   "mimetype": "text/x-python",
   "name": "python",
   "nbconvert_exporter": "python",
   "pygments_lexer": "ipython3",
   "version": "3.6.3"
  }
 },
 "nbformat": 4,
 "nbformat_minor": 2
}
